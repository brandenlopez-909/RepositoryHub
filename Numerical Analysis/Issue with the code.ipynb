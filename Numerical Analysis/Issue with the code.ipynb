{
 "cells": [
  {
   "cell_type": "markdown",
   "metadata": {},
   "source": [
    "There is not an issue with the defintion Imani passed for natrual cubic spline interpolation. That is: \n"
   ]
  },
  {
   "cell_type": "code",
   "execution_count": 1,
   "metadata": {},
   "outputs": [],
   "source": [
    "import numpy as np\n",
    "def ncubic_spline(x, y):\n",
    "    #pdb.set_trace();\n",
    "    \n",
    "    a = y;\n",
    "    n = len(x) - 1;\n",
    "    h = np.zeros(n) \n",
    "    for i in range(0, n):\n",
    "        h[i] = x[i+1] - x[i]\n",
    "        \n",
    "    alpha = np.zeros(n) \n",
    "    # the a values are your y values\n",
    "    for i in range(1, n):\n",
    "        alpha[i] = ((3/h[i])*(a[i+1] - a[i])) - ((3/h[i-1])*(a[i] - a[i-1]))\n",
    "        \n",
    "    l = np.zeros(n + 1) \n",
    "    mu = np.zeros(n + 1)\n",
    "    z = np.zeros(n + 1) \n",
    "    b = np.zeros(n + 1) \n",
    "    c = np.zeros(n + 1) \n",
    "    d = np.zeros(n + 1)\n",
    "    #print(\"d = \" + str(d));\n",
    "    \n",
    "    l[0] = 1\n",
    "    mu[0] = 0\n",
    "    z[0] = 0\n",
    "    for i in range(1, n):\n",
    "        l[i] = 2*(x[i+1] - x[i-1]) - h[i-1]*mu[i-1]\n",
    "        mu[i] = h[i]/l[i]\n",
    "        z[i] = alpha[i] - (h[i-1]*z[i-1])/l[i]\n",
    "    \n",
    "    #Below, Idk if the indexing for l,z,c is correct since size is already n-and we want to insert the values at n \n",
    "    l[n] = 1\n",
    "    z[n] = 0\n",
    "    c[n] = 0\n",
    "    #pdb.set_trace()\n",
    "    for j in np.arange(n-1,-1,-1):\n",
    "        c[j] = z[j] - mu[j]*c[j+1]\n",
    "        b[j] = ((y[j+1] - y[j])/h[j]) - (h[j]*(c[j+1] + 2*c[j])/3.0)\n",
    "        d[j]= (c[j+1] - c[j])/(3*h[j])\n",
    "        \n",
    "        print(\"a = y = \" + str(y[j]) + \" b = \" + str(b[j]) + \" c = \" + str(c[j]) + \" d = \" + str(d[j]));\n",
    "    for i in range(n):\n",
    "        print('s_{' + str(i) + '}(x)=' + str(y[i]) + ' + (' + str(b[i]) + ')(x-' + str(x[i]) + ')' + ' + (' + str(c[i]) + ')(x-' + str( x[i] ) + ')^2' + ' + (' + str(d[i]) + ')(x-' + str(x[i]) + \")^3\"  )\n",
    "    print(\"--------------------------------------\")\n",
    "    for i in range(n):\n",
    "        print( \"s_{\" +  str(i) + \"}(x)=\" + str(y[i]) + \" + \"  + str(b[i]) + \"*(x-\" + str(x[i])  + \")+\" + str(c[i]) + \"*(x-\" +  str(x[i]) +\")**2+\" + str(d[i]) + \"*(x-\" + str(x[i]) + \")**3\" );\n",
    "\n"
   ]
  },
  {
   "cell_type": "markdown",
   "metadata": {},
   "source": [
    "But rather an issue when passing arguments for x and y(This is TSLA data). That is "
   ]
  },
  {
   "cell_type": "code",
   "execution_count": 2,
   "metadata": {},
   "outputs": [
    {
     "name": "stdout",
     "output_type": "stream",
     "text": [
      "Size of x is: 12\n",
      "\n",
      "Size of y is: 13\n"
     ]
    }
   ],
   "source": [
    "x = np.array([0, 1, 2, 3, 4, 5, 6, 7, 8, 9, 10 , 11])\n",
    "y = np.array([264.769989, 337.320007,350.480011,332.799988,307.019989,319.880005,279.859985,238.690002,185.160004,223.460007,241.610001,225.610001,240.869995])\n",
    "print(\"Size of x is: \" + str(np.size(x)));\n",
    "print()\n",
    "print(\"Size of y is: \" + str(np.size(y)));"
   ]
  },
  {
   "cell_type": "markdown",
   "metadata": {},
   "source": [
    "Thus, when we use the above arguments in the defintion "
   ]
  },
  {
   "cell_type": "code",
   "execution_count": 3,
   "metadata": {},
   "outputs": [
    {
     "name": "stdout",
     "output_type": "stream",
     "text": [
      "a = y = 241.610001 b = 27.67624216329896 c = -65.51436324494844 d = 21.83812108164948\n",
      "a = y = 223.460007 b = 120.18217180165955 c = -120.29108508001505 d = 18.258907278355537\n",
      "a = y = 185.160004 b = -135.6537229543171 c = 321.07613147148317 d = -147.12240551716607\n",
      "a = y = 238.690002 b = -69.97487385128923 c = -135.87075195880774 d = 152.31562781009697\n",
      "a = y = 279.859985 b = -51.89457448948246 c = 84.02226321362755 d = -73.2976717241451\n",
      "a = y = 319.880005 b = 74.03486796951564 c = -213.09346356108722 d = 99.03857559157159\n",
      "a = y = 307.019989 b = -33.640562447487206 c = 176.29759945177437 d = -129.7970210042872\n",
      "a = y = 332.799988 b = -44.90135461753657 c = -59.466766299582304 d = 78.5881219171189\n",
      "a = y = 350.480011 b = 21.575742735490643 c = -29.15026545344482 d = -10.105500282045828\n",
      "a = y = 337.320007 b = 136.79840957557406 c = -170.88247563663865 d = 47.244070061064605\n",
      "a = y = 264.769989 b = 129.51084321221285 c = 0.0 d = -56.96082521221288\n",
      "s_{0}(x)=264.769989 + (129.51084321221285)(x-0) + (0.0)(x-0)^2 + (-56.96082521221288)(x-0)^3\n",
      "s_{1}(x)=337.320007 + (136.79840957557406)(x-1) + (-170.88247563663865)(x-1)^2 + (47.244070061064605)(x-1)^3\n",
      "s_{2}(x)=350.480011 + (21.575742735490643)(x-2) + (-29.15026545344482)(x-2)^2 + (-10.105500282045828)(x-2)^3\n",
      "s_{3}(x)=332.799988 + (-44.90135461753657)(x-3) + (-59.466766299582304)(x-3)^2 + (78.5881219171189)(x-3)^3\n",
      "s_{4}(x)=307.019989 + (-33.640562447487206)(x-4) + (176.29759945177437)(x-4)^2 + (-129.7970210042872)(x-4)^3\n",
      "s_{5}(x)=319.880005 + (74.03486796951564)(x-5) + (-213.09346356108722)(x-5)^2 + (99.03857559157159)(x-5)^3\n",
      "s_{6}(x)=279.859985 + (-51.89457448948246)(x-6) + (84.02226321362755)(x-6)^2 + (-73.2976717241451)(x-6)^3\n",
      "s_{7}(x)=238.690002 + (-69.97487385128923)(x-7) + (-135.87075195880774)(x-7)^2 + (152.31562781009697)(x-7)^3\n",
      "s_{8}(x)=185.160004 + (-135.6537229543171)(x-8) + (321.07613147148317)(x-8)^2 + (-147.12240551716607)(x-8)^3\n",
      "s_{9}(x)=223.460007 + (120.18217180165955)(x-9) + (-120.29108508001505)(x-9)^2 + (18.258907278355537)(x-9)^3\n",
      "s_{10}(x)=241.610001 + (27.67624216329896)(x-10) + (-65.51436324494844)(x-10)^2 + (21.83812108164948)(x-10)^3\n",
      "--------------------------------------\n",
      "s_{0}(x)=264.769989 + 129.51084321221285*(x-0)+0.0*(x-0)**2+-56.96082521221288*(x-0)**3\n",
      "s_{1}(x)=337.320007 + 136.79840957557406*(x-1)+-170.88247563663865*(x-1)**2+47.244070061064605*(x-1)**3\n",
      "s_{2}(x)=350.480011 + 21.575742735490643*(x-2)+-29.15026545344482*(x-2)**2+-10.105500282045828*(x-2)**3\n",
      "s_{3}(x)=332.799988 + -44.90135461753657*(x-3)+-59.466766299582304*(x-3)**2+78.5881219171189*(x-3)**3\n",
      "s_{4}(x)=307.019989 + -33.640562447487206*(x-4)+176.29759945177437*(x-4)**2+-129.7970210042872*(x-4)**3\n",
      "s_{5}(x)=319.880005 + 74.03486796951564*(x-5)+-213.09346356108722*(x-5)**2+99.03857559157159*(x-5)**3\n",
      "s_{6}(x)=279.859985 + -51.89457448948246*(x-6)+84.02226321362755*(x-6)**2+-73.2976717241451*(x-6)**3\n",
      "s_{7}(x)=238.690002 + -69.97487385128923*(x-7)+-135.87075195880774*(x-7)**2+152.31562781009697*(x-7)**3\n",
      "s_{8}(x)=185.160004 + -135.6537229543171*(x-8)+321.07613147148317*(x-8)**2+-147.12240551716607*(x-8)**3\n",
      "s_{9}(x)=223.460007 + 120.18217180165955*(x-9)+-120.29108508001505*(x-9)**2+18.258907278355537*(x-9)**3\n",
      "s_{10}(x)=241.610001 + 27.67624216329896*(x-10)+-65.51436324494844*(x-10)**2+21.83812108164948*(x-10)**3\n"
     ]
    }
   ],
   "source": [
    "ncubic_spline(x, y)"
   ]
  },
  {
   "cell_type": "markdown",
   "metadata": {},
   "source": [
    "$s_{10}(x)$ says for element 10 to 11 we have the following polynomial. \n",
    "\n",
    "$s_{10}(x)=241.610001 + (27.67624216329896)(x-10) + (-65.51436324494844)(x-10)^2 + (21.83812108164948)(x-10)^3$ \n",
    "for $x_{10} < x < x_{11}$ \n",
    "\n",
    "in our case that is x in between months 10 and 11. (i.e. for $10 < x < 11$ ) \n",
    "\n",
    "Then the above will not interpolate up until September, instead the last polynomial(the polynomial above) will go until august. "
   ]
  },
  {
   "cell_type": "code",
   "execution_count": 7,
   "metadata": {},
   "outputs": [],
   "source": [
    "# To verify we will use the polynomial and match it up the nodes.\n",
    "\n",
    "def f(x):\n",
    "    value = 241.610001 + 27.67624216329896*(x-10)+-65.51436324494844*(x-10)**2+21.83812108164948*(x-10)**3\n",
    "    return value "
   ]
  },
  {
   "cell_type": "markdown",
   "metadata": {},
   "source": [
    "If the above polynomial is correct it should give back the closing prices for August 2019 to September 2019. "
   ]
  },
  {
   "cell_type": "code",
   "execution_count": 9,
   "metadata": {},
   "outputs": [
    {
     "name": "stdout",
     "output_type": "stream",
     "text": [
      "209.61000099999998\n",
      "225.61000100000004\n",
      "241.610001\n"
     ]
    }
   ],
   "source": [
    "print(f(12))\n",
    "print(f(11))\n",
    "print(f(10))"
   ]
  },
  {
   "cell_type": "markdown",
   "metadata": {},
   "source": [
    "Instead it prints the correct closing prices from July to August that is:"
   ]
  },
  {
   "cell_type": "code",
   "execution_count": 11,
   "metadata": {},
   "outputs": [
    {
     "name": "stdout",
     "output_type": "stream",
     "text": [
      "240.869995\n",
      "225.610001\n",
      "241.610001\n"
     ]
    }
   ],
   "source": [
    "print(y[12])\n",
    "print(y[11])\n",
    "print(y[10])"
   ]
  },
  {
   "cell_type": "markdown",
   "metadata": {},
   "source": [
    "Notice that y at element 12 exists, that is because we know the closing price for Septemeber in our data. \n",
    "\n",
    "In order to fix the incorrect polynomial we need to extend the vector x. That is "
   ]
  },
  {
   "cell_type": "code",
   "execution_count": 12,
   "metadata": {},
   "outputs": [
    {
     "name": "stdout",
     "output_type": "stream",
     "text": [
      "a = y = 225.610001 b = -58.96300781607924 c = 111.33450272411883 d = -37.11150090803961\n",
      "a = y = 241.610001 b = 10.452734651624343 c = -95.34635333949593 d = 68.8936186878716\n",
      "a = y = 223.460007 b = 124.79719673046127 c = -112.29762742594392 d = 5.65042469548266\n",
      "a = y = 185.160004 b = -136.89031515784941 c = 318.93429094974607 d = -143.74397279189665\n",
      "a = y = 238.690002 b = -69.64352996596158 c = -135.29684752593067 d = 151.41037949189226\n",
      "a = y = 279.859985 b = -51.98335782726064 c = 83.86848600385629 d = -73.05511117659564\n",
      "a = y = 319.880005 b = 74.05865743530076 c = -213.05225915487927 d = 98.97358171957852\n",
      "a = y = 307.019989 b = -33.64693697284952 c = 176.28655903671387 d = -129.77960606386438\n",
      "a = y = 332.799988 b = -44.89964598187244 c = -59.46380904554824 d = 78.5834560274207\n",
      "a = y = 350.480011 b = 21.575282718196455 c = -29.15105405452057 d = -10.104251663675889\n",
      "a = y = 337.320007 b = 136.79854100908665 c = -170.8822784863697 d = 47.24374147728304\n",
      "a = y = 264.769989 b = 129.51077749545652 c = 0.0 d = -56.960759495456564\n",
      "s_{0}(x)=264.769989 + (129.51077749545652)(x-0) + (0.0)(x-0)^2 + (-56.960759495456564)(x-0)^3\n",
      "s_{1}(x)=337.320007 + (136.79854100908665)(x-1) + (-170.8822784863697)(x-1)^2 + (47.24374147728304)(x-1)^3\n",
      "s_{2}(x)=350.480011 + (21.575282718196455)(x-2) + (-29.15105405452057)(x-2)^2 + (-10.104251663675889)(x-2)^3\n",
      "s_{3}(x)=332.799988 + (-44.89964598187244)(x-3) + (-59.46380904554824)(x-3)^2 + (78.5834560274207)(x-3)^3\n",
      "s_{4}(x)=307.019989 + (-33.64693697284952)(x-4) + (176.28655903671387)(x-4)^2 + (-129.77960606386438)(x-4)^3\n",
      "s_{5}(x)=319.880005 + (74.05865743530076)(x-5) + (-213.05225915487927)(x-5)^2 + (98.97358171957852)(x-5)^3\n",
      "s_{6}(x)=279.859985 + (-51.98335782726064)(x-6) + (83.86848600385629)(x-6)^2 + (-73.05511117659564)(x-6)^3\n",
      "s_{7}(x)=238.690002 + (-69.64352996596158)(x-7) + (-135.29684752593067)(x-7)^2 + (151.41037949189226)(x-7)^3\n",
      "s_{8}(x)=185.160004 + (-136.89031515784941)(x-8) + (318.93429094974607)(x-8)^2 + (-143.74397279189665)(x-8)^3\n",
      "s_{9}(x)=223.460007 + (124.79719673046127)(x-9) + (-112.29762742594392)(x-9)^2 + (5.65042469548266)(x-9)^3\n",
      "s_{10}(x)=241.610001 + (10.452734651624343)(x-10) + (-95.34635333949593)(x-10)^2 + (68.8936186878716)(x-10)^3\n",
      "s_{11}(x)=225.610001 + (-58.96300781607924)(x-11) + (111.33450272411883)(x-11)^2 + (-37.11150090803961)(x-11)^3\n",
      "--------------------------------------\n",
      "s_{0}(x)=264.769989 + 129.51077749545652*(x-0)+0.0*(x-0)**2+-56.960759495456564*(x-0)**3\n",
      "s_{1}(x)=337.320007 + 136.79854100908665*(x-1)+-170.8822784863697*(x-1)**2+47.24374147728304*(x-1)**3\n",
      "s_{2}(x)=350.480011 + 21.575282718196455*(x-2)+-29.15105405452057*(x-2)**2+-10.104251663675889*(x-2)**3\n",
      "s_{3}(x)=332.799988 + -44.89964598187244*(x-3)+-59.46380904554824*(x-3)**2+78.5834560274207*(x-3)**3\n",
      "s_{4}(x)=307.019989 + -33.64693697284952*(x-4)+176.28655903671387*(x-4)**2+-129.77960606386438*(x-4)**3\n",
      "s_{5}(x)=319.880005 + 74.05865743530076*(x-5)+-213.05225915487927*(x-5)**2+98.97358171957852*(x-5)**3\n",
      "s_{6}(x)=279.859985 + -51.98335782726064*(x-6)+83.86848600385629*(x-6)**2+-73.05511117659564*(x-6)**3\n",
      "s_{7}(x)=238.690002 + -69.64352996596158*(x-7)+-135.29684752593067*(x-7)**2+151.41037949189226*(x-7)**3\n",
      "s_{8}(x)=185.160004 + -136.89031515784941*(x-8)+318.93429094974607*(x-8)**2+-143.74397279189665*(x-8)**3\n",
      "s_{9}(x)=223.460007 + 124.79719673046127*(x-9)+-112.29762742594392*(x-9)**2+5.65042469548266*(x-9)**3\n",
      "s_{10}(x)=241.610001 + 10.452734651624343*(x-10)+-95.34635333949593*(x-10)**2+68.8936186878716*(x-10)**3\n",
      "s_{11}(x)=225.610001 + -58.96300781607924*(x-11)+111.33450272411883*(x-11)**2+-37.11150090803961*(x-11)**3\n"
     ]
    }
   ],
   "source": [
    "x = np.array([0, 1, 2, 3, 4, 5, 6, 7, 8, 9, 10 , 11, 12])\n",
    "ncubic_spline(x, y)"
   ]
  },
  {
   "cell_type": "code",
   "execution_count": 15,
   "metadata": {},
   "outputs": [],
   "source": [
    "def f(x):\n",
    "    value = 225.610001 + -58.96300781607924*(x-11)+111.33450272411883*(x-11)**2+-37.11150090803961*(x-11)**3\n",
    "    return value \n"
   ]
  },
  {
   "cell_type": "markdown",
   "metadata": {},
   "source": [
    "We now have $ s_{11}(x)$ which is a polynomial where $ x_{11} < x < x_{12}$ thus we now interpolate all the months and if we go to $x_{13}$ we should interpolate October.\n",
    "\n",
    "Verifing we have "
   ]
  },
  {
   "cell_type": "code",
   "execution_count": 16,
   "metadata": {},
   "outputs": [
    {
     "name": "stdout",
     "output_type": "stream",
     "text": [
      "225.610001\n",
      "240.86999500000002\n"
     ]
    }
   ],
   "source": [
    "print(f(11))\n",
    "print(f(12))"
   ]
  },
  {
   "cell_type": "markdown",
   "metadata": {},
   "source": [
    "Where the actual values are "
   ]
  },
  {
   "cell_type": "code",
   "execution_count": 18,
   "metadata": {},
   "outputs": [
    {
     "name": "stdout",
     "output_type": "stream",
     "text": [
      "225.610001\n",
      "240.869995\n"
     ]
    }
   ],
   "source": [
    "print(y[11])\n",
    "print(y[12])"
   ]
  },
  {
   "cell_type": "markdown",
   "metadata": {},
   "source": [
    "Then adding the 12th month to the vector x should fix the issue."
   ]
  },
  {
   "cell_type": "markdown",
   "metadata": {},
   "source": [
    "We did a number of things using the incorrect results so that now must be fixed. (We also presented with the wrong data but I doubt he will even notice.)\n",
    "\n",
    "Below is the interpolated Closing price for the month of october October: \n",
    "\n"
   ]
  },
  {
   "cell_type": "code",
   "execution_count": 20,
   "metadata": {},
   "outputs": [
    {
     "name": "stdout",
     "output_type": "stream",
     "text": [
      "256.12998899999997\n"
     ]
    }
   ],
   "source": [
    "print(f(13))"
   ]
  },
  {
   "cell_type": "markdown",
   "metadata": {},
   "source": [
    "Looking at the last portion of the code, calculating error: "
   ]
  },
  {
   "cell_type": "code",
   "execution_count": 21,
   "metadata": {},
   "outputs": [
    {
     "ename": "NameError",
     "evalue": "name 'tesla_rate' is not defined",
     "output_type": "error",
     "traceback": [
      "\u001b[1;31m---------------------------------------------------------------------------\u001b[0m",
      "\u001b[1;31mNameError\u001b[0m                                 Traceback (most recent call last)",
      "\u001b[1;32m<ipython-input-21-979e28ad222d>\u001b[0m in \u001b[0;36m<module>\u001b[1;34m\u001b[0m\n\u001b[1;32m----> 1\u001b[1;33m \u001b[0mprint\u001b[0m\u001b[1;33m(\u001b[0m\u001b[1;34m'The absolute error for Tesla rate of return is: '\u001b[0m \u001b[1;33m+\u001b[0m \u001b[0mstr\u001b[0m\u001b[1;33m(\u001b[0m \u001b[0mabs\u001b[0m\u001b[1;33m(\u001b[0m\u001b[1;36m209.61000099999998\u001b[0m \u001b[1;33m-\u001b[0m \u001b[0mtesla_rate\u001b[0m\u001b[1;33m)\u001b[0m  \u001b[1;33m)\u001b[0m \u001b[1;33m)\u001b[0m\u001b[1;33m;\u001b[0m\u001b[1;33m\u001b[0m\u001b[1;33m\u001b[0m\u001b[0m\n\u001b[0m\u001b[0;32m      2\u001b[0m \u001b[0mprint\u001b[0m\u001b[1;33m(\u001b[0m\u001b[1;33m)\u001b[0m\u001b[1;33m;\u001b[0m\u001b[1;33m\u001b[0m\u001b[1;33m\u001b[0m\u001b[0m\n",
      "\u001b[1;31mNameError\u001b[0m: name 'tesla_rate' is not defined"
     ]
    }
   ],
   "source": [
    "print('The absolute error for Tesla rate of return is: ' + str( abs(209.61000099999998 - tesla_rate)  ) );\n",
    "print();\n"
   ]
  },
  {
   "cell_type": "markdown",
   "metadata": {},
   "source": [
    "I think we calculated it using the interpolated closing price instead of finding the interpolated rate of return. \n",
    "We need to use the rate of return formula with the closing price we have found: \n",
    "\n",
    "I.e: $ \\frac{y[13] - y[12]}{y[12]}$"
   ]
  },
  {
   "cell_type": "code",
   "execution_count": null,
   "metadata": {},
   "outputs": [],
   "source": []
  }
 ],
 "metadata": {
  "kernelspec": {
   "display_name": "Python 3",
   "language": "python",
   "name": "python3"
  },
  "language_info": {
   "codemirror_mode": {
    "name": "ipython",
    "version": 3
   },
   "file_extension": ".py",
   "mimetype": "text/x-python",
   "name": "python",
   "nbconvert_exporter": "python",
   "pygments_lexer": "ipython3",
   "version": "3.7.3"
  }
 },
 "nbformat": 4,
 "nbformat_minor": 2
}
